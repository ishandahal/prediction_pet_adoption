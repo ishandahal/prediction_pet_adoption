{
 "cells": [
  {
   "cell_type": "markdown",
   "id": "asian-pointer",
   "metadata": {},
   "source": [
    "Imports"
   ]
  },
  {
   "cell_type": "code",
   "execution_count": 1,
   "id": "distributed-cycle",
   "metadata": {},
   "outputs": [],
   "source": [
    "import pandas as pd\n",
    "import numpy as np\n",
    "import matplotlib.pyplot as plt\n",
    "import seaborn as sns"
   ]
  },
  {
   "cell_type": "code",
   "execution_count": 2,
   "id": "entire-shannon",
   "metadata": {},
   "outputs": [
    {
     "data": {
      "text/html": [
       "<div>\n",
       "<style scoped>\n",
       "    .dataframe tbody tr th:only-of-type {\n",
       "        vertical-align: middle;\n",
       "    }\n",
       "\n",
       "    .dataframe tbody tr th {\n",
       "        vertical-align: top;\n",
       "    }\n",
       "\n",
       "    .dataframe thead th {\n",
       "        text-align: right;\n",
       "    }\n",
       "</style>\n",
       "<table border=\"1\" class=\"dataframe\">\n",
       "  <thead>\n",
       "    <tr style=\"text-align: right;\">\n",
       "      <th></th>\n",
       "      <th>Type</th>\n",
       "      <th>Name</th>\n",
       "      <th>Age</th>\n",
       "      <th>Breed1</th>\n",
       "      <th>Breed2</th>\n",
       "      <th>Gender</th>\n",
       "      <th>Color1</th>\n",
       "      <th>Color2</th>\n",
       "      <th>Color3</th>\n",
       "      <th>MaturitySize</th>\n",
       "      <th>...</th>\n",
       "      <th>Health</th>\n",
       "      <th>Quantity</th>\n",
       "      <th>Fee</th>\n",
       "      <th>State</th>\n",
       "      <th>RescuerID</th>\n",
       "      <th>VideoAmt</th>\n",
       "      <th>Description</th>\n",
       "      <th>PetID</th>\n",
       "      <th>PhotoAmt</th>\n",
       "      <th>AdoptionSpeed</th>\n",
       "    </tr>\n",
       "  </thead>\n",
       "  <tbody>\n",
       "    <tr>\n",
       "      <th>0</th>\n",
       "      <td>2</td>\n",
       "      <td>Nibble</td>\n",
       "      <td>3</td>\n",
       "      <td>299</td>\n",
       "      <td>0</td>\n",
       "      <td>1</td>\n",
       "      <td>1</td>\n",
       "      <td>7</td>\n",
       "      <td>0</td>\n",
       "      <td>1</td>\n",
       "      <td>...</td>\n",
       "      <td>1</td>\n",
       "      <td>1</td>\n",
       "      <td>100</td>\n",
       "      <td>41326</td>\n",
       "      <td>8480853f516546f6cf33aa88cd76c379</td>\n",
       "      <td>0</td>\n",
       "      <td>Nibble is a 3+ month old ball of cuteness. He ...</td>\n",
       "      <td>86e1089a3</td>\n",
       "      <td>1.0</td>\n",
       "      <td>2</td>\n",
       "    </tr>\n",
       "    <tr>\n",
       "      <th>1</th>\n",
       "      <td>2</td>\n",
       "      <td>No Name Yet</td>\n",
       "      <td>1</td>\n",
       "      <td>265</td>\n",
       "      <td>0</td>\n",
       "      <td>1</td>\n",
       "      <td>1</td>\n",
       "      <td>2</td>\n",
       "      <td>0</td>\n",
       "      <td>2</td>\n",
       "      <td>...</td>\n",
       "      <td>1</td>\n",
       "      <td>1</td>\n",
       "      <td>0</td>\n",
       "      <td>41401</td>\n",
       "      <td>3082c7125d8fb66f7dd4bff4192c8b14</td>\n",
       "      <td>0</td>\n",
       "      <td>I just found it alone yesterday near my apartm...</td>\n",
       "      <td>6296e909a</td>\n",
       "      <td>2.0</td>\n",
       "      <td>0</td>\n",
       "    </tr>\n",
       "    <tr>\n",
       "      <th>2</th>\n",
       "      <td>1</td>\n",
       "      <td>Brisco</td>\n",
       "      <td>1</td>\n",
       "      <td>307</td>\n",
       "      <td>0</td>\n",
       "      <td>1</td>\n",
       "      <td>2</td>\n",
       "      <td>7</td>\n",
       "      <td>0</td>\n",
       "      <td>2</td>\n",
       "      <td>...</td>\n",
       "      <td>1</td>\n",
       "      <td>1</td>\n",
       "      <td>0</td>\n",
       "      <td>41326</td>\n",
       "      <td>fa90fa5b1ee11c86938398b60abc32cb</td>\n",
       "      <td>0</td>\n",
       "      <td>Their pregnant mother was dumped by her irresp...</td>\n",
       "      <td>3422e4906</td>\n",
       "      <td>7.0</td>\n",
       "      <td>3</td>\n",
       "    </tr>\n",
       "    <tr>\n",
       "      <th>3</th>\n",
       "      <td>1</td>\n",
       "      <td>Miko</td>\n",
       "      <td>4</td>\n",
       "      <td>307</td>\n",
       "      <td>0</td>\n",
       "      <td>2</td>\n",
       "      <td>1</td>\n",
       "      <td>2</td>\n",
       "      <td>0</td>\n",
       "      <td>2</td>\n",
       "      <td>...</td>\n",
       "      <td>1</td>\n",
       "      <td>1</td>\n",
       "      <td>150</td>\n",
       "      <td>41401</td>\n",
       "      <td>9238e4f44c71a75282e62f7136c6b240</td>\n",
       "      <td>0</td>\n",
       "      <td>Good guard dog, very alert, active, obedience ...</td>\n",
       "      <td>5842f1ff5</td>\n",
       "      <td>8.0</td>\n",
       "      <td>2</td>\n",
       "    </tr>\n",
       "    <tr>\n",
       "      <th>4</th>\n",
       "      <td>1</td>\n",
       "      <td>Hunter</td>\n",
       "      <td>1</td>\n",
       "      <td>307</td>\n",
       "      <td>0</td>\n",
       "      <td>1</td>\n",
       "      <td>1</td>\n",
       "      <td>0</td>\n",
       "      <td>0</td>\n",
       "      <td>2</td>\n",
       "      <td>...</td>\n",
       "      <td>1</td>\n",
       "      <td>1</td>\n",
       "      <td>0</td>\n",
       "      <td>41326</td>\n",
       "      <td>95481e953f8aed9ec3d16fc4509537e8</td>\n",
       "      <td>0</td>\n",
       "      <td>This handsome yet cute boy is up for adoption....</td>\n",
       "      <td>850a43f90</td>\n",
       "      <td>3.0</td>\n",
       "      <td>2</td>\n",
       "    </tr>\n",
       "  </tbody>\n",
       "</table>\n",
       "<p>5 rows × 24 columns</p>\n",
       "</div>"
      ],
      "text/plain": [
       "   Type         Name  Age  Breed1  Breed2  Gender  Color1  Color2  Color3  \\\n",
       "0     2       Nibble    3     299       0       1       1       7       0   \n",
       "1     2  No Name Yet    1     265       0       1       1       2       0   \n",
       "2     1       Brisco    1     307       0       1       2       7       0   \n",
       "3     1         Miko    4     307       0       2       1       2       0   \n",
       "4     1       Hunter    1     307       0       1       1       0       0   \n",
       "\n",
       "   MaturitySize  ...  Health  Quantity  Fee  State  \\\n",
       "0             1  ...       1         1  100  41326   \n",
       "1             2  ...       1         1    0  41401   \n",
       "2             2  ...       1         1    0  41326   \n",
       "3             2  ...       1         1  150  41401   \n",
       "4             2  ...       1         1    0  41326   \n",
       "\n",
       "                          RescuerID  VideoAmt  \\\n",
       "0  8480853f516546f6cf33aa88cd76c379         0   \n",
       "1  3082c7125d8fb66f7dd4bff4192c8b14         0   \n",
       "2  fa90fa5b1ee11c86938398b60abc32cb         0   \n",
       "3  9238e4f44c71a75282e62f7136c6b240         0   \n",
       "4  95481e953f8aed9ec3d16fc4509537e8         0   \n",
       "\n",
       "                                         Description      PetID PhotoAmt  \\\n",
       "0  Nibble is a 3+ month old ball of cuteness. He ...  86e1089a3      1.0   \n",
       "1  I just found it alone yesterday near my apartm...  6296e909a      2.0   \n",
       "2  Their pregnant mother was dumped by her irresp...  3422e4906      7.0   \n",
       "3  Good guard dog, very alert, active, obedience ...  5842f1ff5      8.0   \n",
       "4  This handsome yet cute boy is up for adoption....  850a43f90      3.0   \n",
       "\n",
       "   AdoptionSpeed  \n",
       "0              2  \n",
       "1              0  \n",
       "2              3  \n",
       "3              2  \n",
       "4              2  \n",
       "\n",
       "[5 rows x 24 columns]"
      ]
     },
     "execution_count": 2,
     "metadata": {},
     "output_type": "execute_result"
    }
   ],
   "source": [
    "# reading dataset into pandas dataframe\n",
    "\n",
    "df = pd.read_csv(filepath_or_buffer='data/train.csv.zip')\n",
    "df.head()"
   ]
  },
  {
   "cell_type": "code",
   "execution_count": 3,
   "id": "periodic-color",
   "metadata": {},
   "outputs": [
    {
     "data": {
      "text/plain": [
       "Index(['Type', 'Name', 'Age', 'Breed1', 'Breed2', 'Gender', 'Color1', 'Color2',\n",
       "       'Color3', 'MaturitySize', 'FurLength', 'Vaccinated', 'Dewormed',\n",
       "       'Sterilized', 'Health', 'Quantity', 'Fee', 'State', 'RescuerID',\n",
       "       'VideoAmt', 'Description', 'PetID', 'PhotoAmt', 'AdoptionSpeed'],\n",
       "      dtype='object')"
      ]
     },
     "execution_count": 3,
     "metadata": {},
     "output_type": "execute_result"
    }
   ],
   "source": [
    "## columns\n",
    "df.columns"
   ]
  },
  {
   "cell_type": "code",
   "execution_count": 4,
   "id": "naked-fifty",
   "metadata": {},
   "outputs": [
    {
     "name": "stdout",
     "output_type": "stream",
     "text": [
      "Shape of the dataframe: \n",
      " (14993, 24)\n",
      "Count of null values: \n",
      " Type                0\n",
      "Name             1257\n",
      "Age                 0\n",
      "Breed1              0\n",
      "Breed2              0\n",
      "Gender              0\n",
      "Color1              0\n",
      "Color2              0\n",
      "Color3              0\n",
      "MaturitySize        0\n",
      "FurLength           0\n",
      "Vaccinated          0\n",
      "Dewormed            0\n",
      "Sterilized          0\n",
      "Health              0\n",
      "Quantity            0\n",
      "Fee                 0\n",
      "State               0\n",
      "RescuerID           0\n",
      "VideoAmt            0\n",
      "Description        12\n",
      "PetID               0\n",
      "PhotoAmt            0\n",
      "AdoptionSpeed       0\n",
      "dtype: int64\n",
      "Unique values per column: \n",
      " Type                 2\n",
      "Name              9060\n",
      "Age                106\n",
      "Breed1             176\n",
      "Breed2             135\n",
      "Gender               3\n",
      "Color1               7\n",
      "Color2               7\n",
      "Color3               6\n",
      "MaturitySize         4\n",
      "FurLength            3\n",
      "Vaccinated           3\n",
      "Dewormed             3\n",
      "Sterilized           3\n",
      "Health               3\n",
      "Quantity            19\n",
      "Fee                 74\n",
      "State               14\n",
      "RescuerID         5595\n",
      "VideoAmt             9\n",
      "Description      14032\n",
      "PetID            14993\n",
      "PhotoAmt            31\n",
      "AdoptionSpeed        5\n",
      "dtype: int64\n"
     ]
    }
   ],
   "source": [
    "# size of the dataframe\n",
    "print(\"Shape of the dataframe: \\n\", df.shape)\n",
    "\n",
    "# null values\n",
    "print(\"Count of null values: \\n\", df.isna().sum())\n",
    "\n",
    "# no of unique values per column \n",
    "print(\"Unique values per column: \\n\", df.nunique())"
   ]
  },
  {
   "cell_type": "markdown",
   "id": "accurate-hormone",
   "metadata": {},
   "source": [
    "Over a thousand missing values on Name field and 12 on descrition field."
   ]
  },
  {
   "cell_type": "code",
   "execution_count": 5,
   "id": "instant-marathon",
   "metadata": {},
   "outputs": [
    {
     "data": {
      "text/html": [
       "<div>\n",
       "<style scoped>\n",
       "    .dataframe tbody tr th:only-of-type {\n",
       "        vertical-align: middle;\n",
       "    }\n",
       "\n",
       "    .dataframe tbody tr th {\n",
       "        vertical-align: top;\n",
       "    }\n",
       "\n",
       "    .dataframe thead th {\n",
       "        text-align: right;\n",
       "    }\n",
       "</style>\n",
       "<table border=\"1\" class=\"dataframe\">\n",
       "  <thead>\n",
       "    <tr style=\"text-align: right;\">\n",
       "      <th></th>\n",
       "      <th>count</th>\n",
       "      <th>mean</th>\n",
       "      <th>std</th>\n",
       "      <th>min</th>\n",
       "      <th>25%</th>\n",
       "      <th>50%</th>\n",
       "      <th>75%</th>\n",
       "      <th>max</th>\n",
       "    </tr>\n",
       "  </thead>\n",
       "  <tbody>\n",
       "    <tr>\n",
       "      <th>Type</th>\n",
       "      <td>14993.0</td>\n",
       "      <td>1.457614</td>\n",
       "      <td>0.498217</td>\n",
       "      <td>1.0</td>\n",
       "      <td>1.0</td>\n",
       "      <td>1.0</td>\n",
       "      <td>2.0</td>\n",
       "      <td>2.0</td>\n",
       "    </tr>\n",
       "    <tr>\n",
       "      <th>Age</th>\n",
       "      <td>14993.0</td>\n",
       "      <td>10.452078</td>\n",
       "      <td>18.155790</td>\n",
       "      <td>0.0</td>\n",
       "      <td>2.0</td>\n",
       "      <td>3.0</td>\n",
       "      <td>12.0</td>\n",
       "      <td>255.0</td>\n",
       "    </tr>\n",
       "    <tr>\n",
       "      <th>Breed1</th>\n",
       "      <td>14993.0</td>\n",
       "      <td>265.272594</td>\n",
       "      <td>60.056818</td>\n",
       "      <td>0.0</td>\n",
       "      <td>265.0</td>\n",
       "      <td>266.0</td>\n",
       "      <td>307.0</td>\n",
       "      <td>307.0</td>\n",
       "    </tr>\n",
       "    <tr>\n",
       "      <th>Breed2</th>\n",
       "      <td>14993.0</td>\n",
       "      <td>74.009738</td>\n",
       "      <td>123.011575</td>\n",
       "      <td>0.0</td>\n",
       "      <td>0.0</td>\n",
       "      <td>0.0</td>\n",
       "      <td>179.0</td>\n",
       "      <td>307.0</td>\n",
       "    </tr>\n",
       "    <tr>\n",
       "      <th>Gender</th>\n",
       "      <td>14993.0</td>\n",
       "      <td>1.776162</td>\n",
       "      <td>0.681592</td>\n",
       "      <td>1.0</td>\n",
       "      <td>1.0</td>\n",
       "      <td>2.0</td>\n",
       "      <td>2.0</td>\n",
       "      <td>3.0</td>\n",
       "    </tr>\n",
       "    <tr>\n",
       "      <th>Color1</th>\n",
       "      <td>14993.0</td>\n",
       "      <td>2.234176</td>\n",
       "      <td>1.745225</td>\n",
       "      <td>1.0</td>\n",
       "      <td>1.0</td>\n",
       "      <td>2.0</td>\n",
       "      <td>3.0</td>\n",
       "      <td>7.0</td>\n",
       "    </tr>\n",
       "    <tr>\n",
       "      <th>Color2</th>\n",
       "      <td>14993.0</td>\n",
       "      <td>3.222837</td>\n",
       "      <td>2.742562</td>\n",
       "      <td>0.0</td>\n",
       "      <td>0.0</td>\n",
       "      <td>2.0</td>\n",
       "      <td>6.0</td>\n",
       "      <td>7.0</td>\n",
       "    </tr>\n",
       "    <tr>\n",
       "      <th>Color3</th>\n",
       "      <td>14993.0</td>\n",
       "      <td>1.882012</td>\n",
       "      <td>2.984086</td>\n",
       "      <td>0.0</td>\n",
       "      <td>0.0</td>\n",
       "      <td>0.0</td>\n",
       "      <td>5.0</td>\n",
       "      <td>7.0</td>\n",
       "    </tr>\n",
       "    <tr>\n",
       "      <th>MaturitySize</th>\n",
       "      <td>14993.0</td>\n",
       "      <td>1.862002</td>\n",
       "      <td>0.547959</td>\n",
       "      <td>1.0</td>\n",
       "      <td>2.0</td>\n",
       "      <td>2.0</td>\n",
       "      <td>2.0</td>\n",
       "      <td>4.0</td>\n",
       "    </tr>\n",
       "    <tr>\n",
       "      <th>FurLength</th>\n",
       "      <td>14993.0</td>\n",
       "      <td>1.467485</td>\n",
       "      <td>0.599070</td>\n",
       "      <td>1.0</td>\n",
       "      <td>1.0</td>\n",
       "      <td>1.0</td>\n",
       "      <td>2.0</td>\n",
       "      <td>3.0</td>\n",
       "    </tr>\n",
       "    <tr>\n",
       "      <th>Vaccinated</th>\n",
       "      <td>14993.0</td>\n",
       "      <td>1.731208</td>\n",
       "      <td>0.667649</td>\n",
       "      <td>1.0</td>\n",
       "      <td>1.0</td>\n",
       "      <td>2.0</td>\n",
       "      <td>2.0</td>\n",
       "      <td>3.0</td>\n",
       "    </tr>\n",
       "    <tr>\n",
       "      <th>Dewormed</th>\n",
       "      <td>14993.0</td>\n",
       "      <td>1.558727</td>\n",
       "      <td>0.695817</td>\n",
       "      <td>1.0</td>\n",
       "      <td>1.0</td>\n",
       "      <td>1.0</td>\n",
       "      <td>2.0</td>\n",
       "      <td>3.0</td>\n",
       "    </tr>\n",
       "    <tr>\n",
       "      <th>Sterilized</th>\n",
       "      <td>14993.0</td>\n",
       "      <td>1.914227</td>\n",
       "      <td>0.566172</td>\n",
       "      <td>1.0</td>\n",
       "      <td>2.0</td>\n",
       "      <td>2.0</td>\n",
       "      <td>2.0</td>\n",
       "      <td>3.0</td>\n",
       "    </tr>\n",
       "    <tr>\n",
       "      <th>Health</th>\n",
       "      <td>14993.0</td>\n",
       "      <td>1.036617</td>\n",
       "      <td>0.199535</td>\n",
       "      <td>1.0</td>\n",
       "      <td>1.0</td>\n",
       "      <td>1.0</td>\n",
       "      <td>1.0</td>\n",
       "      <td>3.0</td>\n",
       "    </tr>\n",
       "    <tr>\n",
       "      <th>Quantity</th>\n",
       "      <td>14993.0</td>\n",
       "      <td>1.576069</td>\n",
       "      <td>1.472477</td>\n",
       "      <td>1.0</td>\n",
       "      <td>1.0</td>\n",
       "      <td>1.0</td>\n",
       "      <td>1.0</td>\n",
       "      <td>20.0</td>\n",
       "    </tr>\n",
       "    <tr>\n",
       "      <th>Fee</th>\n",
       "      <td>14993.0</td>\n",
       "      <td>21.259988</td>\n",
       "      <td>78.414548</td>\n",
       "      <td>0.0</td>\n",
       "      <td>0.0</td>\n",
       "      <td>0.0</td>\n",
       "      <td>0.0</td>\n",
       "      <td>3000.0</td>\n",
       "    </tr>\n",
       "    <tr>\n",
       "      <th>State</th>\n",
       "      <td>14993.0</td>\n",
       "      <td>41346.028347</td>\n",
       "      <td>32.444153</td>\n",
       "      <td>41324.0</td>\n",
       "      <td>41326.0</td>\n",
       "      <td>41326.0</td>\n",
       "      <td>41401.0</td>\n",
       "      <td>41415.0</td>\n",
       "    </tr>\n",
       "    <tr>\n",
       "      <th>VideoAmt</th>\n",
       "      <td>14993.0</td>\n",
       "      <td>0.056760</td>\n",
       "      <td>0.346185</td>\n",
       "      <td>0.0</td>\n",
       "      <td>0.0</td>\n",
       "      <td>0.0</td>\n",
       "      <td>0.0</td>\n",
       "      <td>8.0</td>\n",
       "    </tr>\n",
       "    <tr>\n",
       "      <th>PhotoAmt</th>\n",
       "      <td>14993.0</td>\n",
       "      <td>3.889215</td>\n",
       "      <td>3.487810</td>\n",
       "      <td>0.0</td>\n",
       "      <td>2.0</td>\n",
       "      <td>3.0</td>\n",
       "      <td>5.0</td>\n",
       "      <td>30.0</td>\n",
       "    </tr>\n",
       "    <tr>\n",
       "      <th>AdoptionSpeed</th>\n",
       "      <td>14993.0</td>\n",
       "      <td>2.516441</td>\n",
       "      <td>1.177265</td>\n",
       "      <td>0.0</td>\n",
       "      <td>2.0</td>\n",
       "      <td>2.0</td>\n",
       "      <td>4.0</td>\n",
       "      <td>4.0</td>\n",
       "    </tr>\n",
       "  </tbody>\n",
       "</table>\n",
       "</div>"
      ],
      "text/plain": [
       "                 count          mean         std      min      25%      50%  \\\n",
       "Type           14993.0      1.457614    0.498217      1.0      1.0      1.0   \n",
       "Age            14993.0     10.452078   18.155790      0.0      2.0      3.0   \n",
       "Breed1         14993.0    265.272594   60.056818      0.0    265.0    266.0   \n",
       "Breed2         14993.0     74.009738  123.011575      0.0      0.0      0.0   \n",
       "Gender         14993.0      1.776162    0.681592      1.0      1.0      2.0   \n",
       "Color1         14993.0      2.234176    1.745225      1.0      1.0      2.0   \n",
       "Color2         14993.0      3.222837    2.742562      0.0      0.0      2.0   \n",
       "Color3         14993.0      1.882012    2.984086      0.0      0.0      0.0   \n",
       "MaturitySize   14993.0      1.862002    0.547959      1.0      2.0      2.0   \n",
       "FurLength      14993.0      1.467485    0.599070      1.0      1.0      1.0   \n",
       "Vaccinated     14993.0      1.731208    0.667649      1.0      1.0      2.0   \n",
       "Dewormed       14993.0      1.558727    0.695817      1.0      1.0      1.0   \n",
       "Sterilized     14993.0      1.914227    0.566172      1.0      2.0      2.0   \n",
       "Health         14993.0      1.036617    0.199535      1.0      1.0      1.0   \n",
       "Quantity       14993.0      1.576069    1.472477      1.0      1.0      1.0   \n",
       "Fee            14993.0     21.259988   78.414548      0.0      0.0      0.0   \n",
       "State          14993.0  41346.028347   32.444153  41324.0  41326.0  41326.0   \n",
       "VideoAmt       14993.0      0.056760    0.346185      0.0      0.0      0.0   \n",
       "PhotoAmt       14993.0      3.889215    3.487810      0.0      2.0      3.0   \n",
       "AdoptionSpeed  14993.0      2.516441    1.177265      0.0      2.0      2.0   \n",
       "\n",
       "                   75%      max  \n",
       "Type               2.0      2.0  \n",
       "Age               12.0    255.0  \n",
       "Breed1           307.0    307.0  \n",
       "Breed2           179.0    307.0  \n",
       "Gender             2.0      3.0  \n",
       "Color1             3.0      7.0  \n",
       "Color2             6.0      7.0  \n",
       "Color3             5.0      7.0  \n",
       "MaturitySize       2.0      4.0  \n",
       "FurLength          2.0      3.0  \n",
       "Vaccinated         2.0      3.0  \n",
       "Dewormed           2.0      3.0  \n",
       "Sterilized         2.0      3.0  \n",
       "Health             1.0      3.0  \n",
       "Quantity           1.0     20.0  \n",
       "Fee                0.0   3000.0  \n",
       "State          41401.0  41415.0  \n",
       "VideoAmt           0.0      8.0  \n",
       "PhotoAmt           5.0     30.0  \n",
       "AdoptionSpeed      4.0      4.0  "
      ]
     },
     "execution_count": 5,
     "metadata": {},
     "output_type": "execute_result"
    }
   ],
   "source": [
    "# looking at some general statistics\n",
    "# odd things - max age is 255\n",
    "df.describe().T"
   ]
  },
  {
   "cell_type": "code",
   "execution_count": 6,
   "id": "supported-polish",
   "metadata": {},
   "outputs": [
    {
     "data": {
      "text/html": [
       "<div>\n",
       "<style scoped>\n",
       "    .dataframe tbody tr th:only-of-type {\n",
       "        vertical-align: middle;\n",
       "    }\n",
       "\n",
       "    .dataframe tbody tr th {\n",
       "        vertical-align: top;\n",
       "    }\n",
       "\n",
       "    .dataframe thead th {\n",
       "        text-align: right;\n",
       "    }\n",
       "</style>\n",
       "<table border=\"1\" class=\"dataframe\">\n",
       "  <thead>\n",
       "    <tr style=\"text-align: right;\">\n",
       "      <th></th>\n",
       "      <th>Type</th>\n",
       "      <th>Age</th>\n",
       "      <th>PetID</th>\n",
       "    </tr>\n",
       "  </thead>\n",
       "  <tbody>\n",
       "    <tr>\n",
       "      <th>0</th>\n",
       "      <td>1</td>\n",
       "      <td>0</td>\n",
       "      <td>85</td>\n",
       "    </tr>\n",
       "    <tr>\n",
       "      <th>1</th>\n",
       "      <td>1</td>\n",
       "      <td>1</td>\n",
       "      <td>1288</td>\n",
       "    </tr>\n",
       "    <tr>\n",
       "      <th>2</th>\n",
       "      <td>1</td>\n",
       "      <td>2</td>\n",
       "      <td>1984</td>\n",
       "    </tr>\n",
       "    <tr>\n",
       "      <th>3</th>\n",
       "      <td>1</td>\n",
       "      <td>3</td>\n",
       "      <td>939</td>\n",
       "    </tr>\n",
       "    <tr>\n",
       "      <th>4</th>\n",
       "      <td>1</td>\n",
       "      <td>4</td>\n",
       "      <td>475</td>\n",
       "    </tr>\n",
       "  </tbody>\n",
       "</table>\n",
       "</div>"
      ],
      "text/plain": [
       "   Type  Age  PetID\n",
       "0     1    0     85\n",
       "1     1    1   1288\n",
       "2     1    2   1984\n",
       "3     1    3    939\n",
       "4     1    4    475"
      ]
     },
     "execution_count": 6,
     "metadata": {},
     "output_type": "execute_result"
    }
   ],
   "source": [
    "# let's look at the age column (1 = dog, 2 = cat)\n",
    "# there seems to be age of pet's that are beyond what we would consider acceptable \n",
    "# Most likely wrong values\n",
    "\n",
    "pets_by_age_df = df.groupby(by=['Type','Age']).count()['PetID'].reset_index()\n",
    "pets_by_age_df.head()"
   ]
  },
  {
   "cell_type": "code",
   "execution_count": 7,
   "id": "elect-smoke",
   "metadata": {},
   "outputs": [
    {
     "name": "stderr",
     "output_type": "stream",
     "text": [
      "<ipython-input-7-ac494ecdfba6>:4: UserWarning: Boolean Series key will be reindexed to match DataFrame index.\n",
      "  pets_by_age_df[pets_by_age_df['Type'] == 1][pets_by_age_df['Age'] > 20]['PetID'].sum()\n"
     ]
    },
    {
     "data": {
      "text/plain": [
       "1647"
      ]
     },
     "execution_count": 7,
     "metadata": {},
     "output_type": "execute_result"
    }
   ],
   "source": [
    "# looking at the dogs (found an article that said dogs max age is around 20)\n",
    "# that is quite a large number for miss labeled age\n",
    "\n",
    "pets_by_age_df[pets_by_age_df['Type'] == 1][pets_by_age_df['Age'] > 20]['PetID'].sum()"
   ]
  },
  {
   "cell_type": "code",
   "execution_count": 8,
   "id": "prerequisite-concentrate",
   "metadata": {},
   "outputs": [
    {
     "name": "stderr",
     "output_type": "stream",
     "text": [
      "<ipython-input-8-1ff6410a9a11>:3: UserWarning: Boolean Series key will be reindexed to match DataFrame index.\n",
      "  pets_by_age_df[pets_by_age_df['Type'] == 2][pets_by_age_df['Age'] > 30]['PetID'].sum()\n"
     ]
    },
    {
     "data": {
      "text/plain": [
       "300"
      ]
     },
     "execution_count": 8,
     "metadata": {},
     "output_type": "execute_result"
    }
   ],
   "source": [
    "# looking at the cats (found article that says cats max age is around 30)\n",
    "\n",
    "pets_by_age_df[pets_by_age_df['Type'] == 2][pets_by_age_df['Age'] > 30]['PetID'].sum()"
   ]
  },
  {
   "cell_type": "code",
   "execution_count": 9,
   "id": "persistent-october",
   "metadata": {},
   "outputs": [
    {
     "data": {
      "image/png": "[encoded data removed]",
      "text/plain": [
       "<Figure size 432x288 with 1 Axes>"
      ]
     },
     "metadata": {
      "needs_background": "light"
     },
     "output_type": "display_data"
    }
   ],
   "source": [
    "# type refers to the type of animal (1 = dog and 2 = cat)\n",
    "# Over 1000 more dogs than cats\n",
    "\n",
    "sns.countplot(x='Type', data=df)\n",
    "plt.title('Distribution of cats: 2  and dogs: 1')\n",
    "plt.show()"
   ]
  },
  {
   "cell_type": "code",
   "execution_count": 10,
   "id": "explicit-federal",
   "metadata": {},
   "outputs": [
    {
     "data": {
      "text/plain": [
       "[(66, 'Baby'),\n",
       " (64, 'Lucky'),\n",
       " (54, 'Brownie'),\n",
       " (54, 'No Name'),\n",
       " (52, 'Mimi'),\n",
       " (49, 'Blackie'),\n",
       " (45, 'Puppy'),\n",
       " (39, 'Max'),\n",
       " (39, 'Kittens'),\n",
       " (39, 'Kitty')]"
      ]
     },
     "execution_count": 10,
     "metadata": {},
     "output_type": "execute_result"
    }
   ],
   "source": [
    "# 10 most common names for pets in the dataset\n",
    "[(x, y) for x, y in zip(df['Name'].value_counts()[:10], df['Name'].value_counts()[:10].index)]"
   ]
  },
  {
   "cell_type": "code",
   "execution_count": 11,
   "id": "derived-stephen",
   "metadata": {},
   "outputs": [
    {
     "data": {
      "image/png": "[encoded data removed]",
      "text/plain": [
       "<Figure size 432x288 with 1 Axes>"
      ]
     },
     "metadata": {
      "needs_background": "light"
     },
     "output_type": "display_data"
    }
   ],
   "source": [
    "# age of the dogs\n",
    "sns.histplot(data=df[df['Type']==1], x='Age', bins=15,)\n",
    "plt.title('Distribution of age (dogs)')\n",
    "plt.show()"
   ]
  },
  {
   "cell_type": "code",
   "execution_count": 12,
   "id": "clinical-pioneer",
   "metadata": {},
   "outputs": [
    {
     "data": {
      "image/png": "[encoded data removed]",
      "text/plain": [
       "<Figure size 432x288 with 1 Axes>"
      ]
     },
     "metadata": {
      "needs_background": "light"
     },
     "output_type": "display_data"
    }
   ],
   "source": [
    "# age distribution of cats\n",
    "sns.histplot(data=df[df['Type']==2], x='Age', bins=15,)\n",
    "plt.title('Distribution of age (cats)')\n",
    "plt.show()"
   ]
  },
  {
   "cell_type": "code",
   "execution_count": 13,
   "id": "warming-bunny",
   "metadata": {},
   "outputs": [
    {
     "data": {
      "image/png": "[encoded data removed]",
      "text/plain": [
       "<Figure size 432x288 with 1 Axes>"
      ]
     },
     "metadata": {
      "needs_background": "light"
     },
     "output_type": "display_data"
    }
   ],
   "source": [
    "# distribution of gender \n",
    "\n",
    "sns.countplot(x='Gender', data=df, hue='Type')\n",
    "plt.title('Gender distribution (1=Male, 2=Female, 3=Mixed)')\n",
    "plt.show()"
   ]
  },
  {
   "cell_type": "code",
   "execution_count": 14,
   "id": "owned-meeting",
   "metadata": {},
   "outputs": [
    {
     "data": {
      "image/png": "[encoded data removed]",
      "text/plain": [
       "<Figure size 432x288 with 1 Axes>"
      ]
     },
     "metadata": {
      "needs_background": "light"
     },
     "output_type": "display_data"
    }
   ],
   "source": [
    "# maturity size\n",
    "# 1 = Small, 2 = Medium, 3 = Large, 4 = Extra Large, 0 = Not Specified\n",
    "\n",
    "sns.countplot(x='MaturitySize', data=df, hue='Type')\n",
    "plt.title('Size of the pets')\n",
    "plt.show()"
   ]
  },
  {
   "cell_type": "code",
   "execution_count": 15,
   "id": "competent-implement",
   "metadata": {},
   "outputs": [
    {
     "data": {
      "image/png": "[encoded data removed]",
      "text/plain": [
       "<Figure size 432x288 with 1 Axes>"
      ]
     },
     "metadata": {
      "needs_background": "light"
     },
     "output_type": "display_data"
    }
   ],
   "source": [
    "# distribution of fur length (1 = Short, 2 = Medium, 3 = Long, 0 = Not Specified)\n",
    "\n",
    "sns.countplot(x='FurLength', data=df, hue='Type')\n",
    "plt.title('Distribution of fur length')\n",
    "plt.show()"
   ]
  },
  {
   "cell_type": "code",
   "execution_count": 16,
   "id": "complimentary-centre",
   "metadata": {},
   "outputs": [
    {
     "data": {
      "image/png": "[encoded data removed]",
      "text/plain": [
       "<Figure size 432x288 with 1 Axes>"
      ]
     },
     "metadata": {
      "needs_background": "light"
     },
     "output_type": "display_data"
    }
   ],
   "source": [
    "# Vaccinated  (1 = Yes, 2 = No, 3 = Not Sure)\n",
    "\n",
    "sns.countplot(x='Vaccinated', data=df, hue='Type')\n",
    "plt.title('Distribution of vaccination')\n",
    "plt.show()"
   ]
  },
  {
   "cell_type": "code",
   "execution_count": 17,
   "id": "dietary-minority",
   "metadata": {},
   "outputs": [
    {
     "data": {
      "image/png": "[encoded data removed]",
      "text/plain": [
       "<Figure size 432x288 with 1 Axes>"
      ]
     },
     "metadata": {
      "needs_background": "light"
     },
     "output_type": "display_data"
    }
   ],
   "source": [
    "# Dewormed  (1 = Yes, 2 = No, 3 = Not Sure)\n",
    "\n",
    "sns.countplot(x='Dewormed', data=df, hue='Type')\n",
    "plt.title('Distribution of pets dewormed')\n",
    "plt.show()"
   ]
  },
  {
   "cell_type": "code",
   "execution_count": 18,
   "id": "exotic-priest",
   "metadata": {},
   "outputs": [
    {
     "data": {
      "image/png": "[encoded data removed]",
      "text/plain": [
       "<Figure size 432x288 with 1 Axes>"
      ]
     },
     "metadata": {
      "needs_background": "light"
     },
     "output_type": "display_data"
    }
   ],
   "source": [
    "# Spayed or neutered  (1 = Yes, 2 = No, 3 = Not Sure)\n",
    "\n",
    "sns.countplot(x='Sterilized', data=df, hue='Type')\n",
    "plt.title('Distribution of sterilized')\n",
    "plt.show()"
   ]
  },
  {
   "cell_type": "code",
   "execution_count": 19,
   "id": "cooked-newcastle",
   "metadata": {},
   "outputs": [
    {
     "data": {
      "image/png": "[encoded data removed]",
      "text/plain": [
       "<Figure size 432x288 with 1 Axes>"
      ]
     },
     "metadata": {
      "needs_background": "light"
     },
     "output_type": "display_data"
    }
   ],
   "source": [
    "# Health condition (1 = Healthy, 2 = Minor Injury, 3 = Serious Injury, 0 = Not Specified)\n",
    "\n",
    "sns.countplot(x='Health', data=df, hue='Type')\n",
    "plt.title('Distrubution of health condition')\n",
    "plt.show()"
   ]
  },
  {
   "cell_type": "code",
   "execution_count": 20,
   "id": "compliant-hamilton",
   "metadata": {},
   "outputs": [
    {
     "data": {
      "image/png": "[encoded data removed]",
      "text/plain": [
       "<Figure size 432x288 with 1 Axes>"
      ]
     },
     "metadata": {
      "needs_background": "light"
     },
     "output_type": "display_data"
    }
   ],
   "source": [
    "# no of pets present in the profile\n",
    "\n",
    "sns.countplot(x='Quantity', data=df, hue='Type')\n",
    "plt.title('Distribution of quantity of pets')\n",
    "plt.show()"
   ]
  },
  {
   "cell_type": "code",
   "execution_count": 21,
   "id": "tight-miniature",
   "metadata": {},
   "outputs": [
    {
     "data": {
      "image/png": "[encoded data removed]",
      "text/plain": [
       "<Figure size 432x288 with 1 Axes>"
      ]
     },
     "metadata": {
      "needs_background": "light"
     },
     "output_type": "display_data"
    }
   ],
   "source": [
    "# Fee for the pet (0 = free)\n",
    "\n",
    "sns.histplot(x='Fee', data=df)\n",
    "plt.title('Distribution of fees')\n",
    "plt.show()"
   ]
  },
  {
   "cell_type": "code",
   "execution_count": 22,
   "id": "frozen-orleans",
   "metadata": {},
   "outputs": [
    {
     "data": {
      "text/plain": [
       "3000    1\n",
       "2000    1\n",
       "1000    4\n",
       "800     2\n",
       "750     7\n",
       "Name: Fee, dtype: int64"
      ]
     },
     "execution_count": 22,
     "metadata": {},
     "output_type": "execute_result"
    }
   ],
   "source": [
    "### Let's look at the highly prices pets\n",
    "# Not sure the currency is dollar or not\n",
    "df['Fee'].value_counts().sort_index(ascending=False).head()"
   ]
  },
  {
   "cell_type": "code",
   "execution_count": 23,
   "id": "opposite-voice",
   "metadata": {},
   "outputs": [
    {
     "data": {
      "text/plain": [
       "0    14419\n",
       "1      417\n",
       "2       92\n",
       "3       36\n",
       "4       15\n",
       "5        7\n",
       "6        4\n",
       "8        2\n",
       "7        1\n",
       "Name: VideoAmt, dtype: int64"
      ]
     },
     "execution_count": 23,
     "metadata": {},
     "output_type": "execute_result"
    }
   ],
   "source": [
    "## lot of the pets do not have any video\n",
    "\n",
    "df['VideoAmt'].value_counts()"
   ]
  },
  {
   "cell_type": "code",
   "execution_count": 24,
   "id": "serial-tragedy",
   "metadata": {},
   "outputs": [
    {
     "data": {
      "image/png": "[encoded data removed]",
      "text/plain": [
       "<Figure size 1080x360 with 1 Axes>"
      ]
     },
     "metadata": {
      "needs_background": "light"
     },
     "output_type": "display_data"
    }
   ],
   "source": [
    "## number of photos uploaded per pet\n",
    "\n",
    "plt.figure(figsize=[15,5])\n",
    "sns.countplot(x='PhotoAmt', data=df, hue='Type')\n",
    "plt.title('Number of photos per pet')\n",
    "plt.show()"
   ]
  },
  {
   "cell_type": "code",
   "execution_count": 25,
   "id": "cutting-shipping",
   "metadata": {},
   "outputs": [
    {
     "data": {
      "text/html": [
       "<div>\n",
       "<style scoped>\n",
       "    .dataframe tbody tr th:only-of-type {\n",
       "        vertical-align: middle;\n",
       "    }\n",
       "\n",
       "    .dataframe tbody tr th {\n",
       "        vertical-align: top;\n",
       "    }\n",
       "\n",
       "    .dataframe thead th {\n",
       "        text-align: right;\n",
       "    }\n",
       "</style>\n",
       "<table border=\"1\" class=\"dataframe\">\n",
       "  <thead>\n",
       "    <tr style=\"text-align: right;\">\n",
       "      <th></th>\n",
       "      <th>Description</th>\n",
       "      <th>AdoptionSpeed</th>\n",
       "    </tr>\n",
       "  </thead>\n",
       "  <tbody>\n",
       "    <tr>\n",
       "      <th>0</th>\n",
       "      <td>Nibble is a 3+ month old ball of cuteness. He ...</td>\n",
       "      <td>2</td>\n",
       "    </tr>\n",
       "    <tr>\n",
       "      <th>1</th>\n",
       "      <td>I just found it alone yesterday near my apartm...</td>\n",
       "      <td>0</td>\n",
       "    </tr>\n",
       "    <tr>\n",
       "      <th>2</th>\n",
       "      <td>Their pregnant mother was dumped by her irresp...</td>\n",
       "      <td>3</td>\n",
       "    </tr>\n",
       "    <tr>\n",
       "      <th>3</th>\n",
       "      <td>Good guard dog, very alert, active, obedience ...</td>\n",
       "      <td>2</td>\n",
       "    </tr>\n",
       "    <tr>\n",
       "      <th>4</th>\n",
       "      <td>This handsome yet cute boy is up for adoption....</td>\n",
       "      <td>2</td>\n",
       "    </tr>\n",
       "    <tr>\n",
       "      <th>...</th>\n",
       "      <td>...</td>\n",
       "      <td>...</td>\n",
       "    </tr>\n",
       "    <tr>\n",
       "      <th>14988</th>\n",
       "      <td>I have 4 kittens that need to be adopt urgentl...</td>\n",
       "      <td>2</td>\n",
       "    </tr>\n",
       "    <tr>\n",
       "      <th>14989</th>\n",
       "      <td>Serato(female cat- 3 color) is 4 years old and...</td>\n",
       "      <td>4</td>\n",
       "    </tr>\n",
       "    <tr>\n",
       "      <th>14990</th>\n",
       "      <td>Mix breed, good temperament kittens. Love huma...</td>\n",
       "      <td>3</td>\n",
       "    </tr>\n",
       "    <tr>\n",
       "      <th>14991</th>\n",
       "      <td>she is very shy..adventures and independent..s...</td>\n",
       "      <td>4</td>\n",
       "    </tr>\n",
       "    <tr>\n",
       "      <th>14992</th>\n",
       "      <td>Fili just loves laying around and also loves b...</td>\n",
       "      <td>3</td>\n",
       "    </tr>\n",
       "  </tbody>\n",
       "</table>\n",
       "<p>14993 rows × 2 columns</p>\n",
       "</div>"
      ],
      "text/plain": [
       "                                             Description  AdoptionSpeed\n",
       "0      Nibble is a 3+ month old ball of cuteness. He ...              2\n",
       "1      I just found it alone yesterday near my apartm...              0\n",
       "2      Their pregnant mother was dumped by her irresp...              3\n",
       "3      Good guard dog, very alert, active, obedience ...              2\n",
       "4      This handsome yet cute boy is up for adoption....              2\n",
       "...                                                  ...            ...\n",
       "14988  I have 4 kittens that need to be adopt urgentl...              2\n",
       "14989  Serato(female cat- 3 color) is 4 years old and...              4\n",
       "14990  Mix breed, good temperament kittens. Love huma...              3\n",
       "14991  she is very shy..adventures and independent..s...              4\n",
       "14992  Fili just loves laying around and also loves b...              3\n",
       "\n",
       "[14993 rows x 2 columns]"
      ]
     },
     "execution_count": 25,
     "metadata": {},
     "output_type": "execute_result"
    }
   ],
   "source": [
    "# description of the pet\n",
    "\n",
    "df[['Description','AdoptionSpeed']]"
   ]
  },
  {
   "cell_type": "code",
   "execution_count": 92,
   "id": "german-broadcasting",
   "metadata": {},
   "outputs": [],
   "source": [
    "## copying the dataframe\n",
    "\n",
    "df_copy = df.copy()"
   ]
  },
  {
   "cell_type": "code",
   "execution_count": 93,
   "id": "major-richardson",
   "metadata": {},
   "outputs": [
    {
     "name": "stdout",
     "output_type": "stream",
     "text": [
      "Shape of the dataframe before dropping columns: (14993, 24)\n",
      "Shape of the dataframe after dropping columns: (14993, 19)\n"
     ]
    }
   ],
   "source": [
    "# columns to be dropped: 'Name', 'Description', 'PetID', 'RescuerID', \n",
    "drop_cols = ['Name', 'Description', 'PetID', 'RescuerID', 'AdoptionSpeed',]\n",
    "\n",
    "print(f\"Shape of the dataframe before dropping columns: {df_copy.shape}\")\n",
    "X_train = df_copy.drop(labels=drop_cols, axis=1)\n",
    "print(f\"Shape of the dataframe after dropping columns: {X_train.shape}\")"
   ]
  },
  {
   "cell_type": "code",
   "execution_count": 94,
   "id": "typical-bolivia",
   "metadata": {},
   "outputs": [
    {
     "data": {
      "text/plain": [
       "(14993,)"
      ]
     },
     "execution_count": 94,
     "metadata": {},
     "output_type": "execute_result"
    }
   ],
   "source": [
    "# training labels \n",
    "y_train = df_copy['AdoptionSpeed']\n",
    "y_train.shape"
   ]
  },
  {
   "cell_type": "code",
   "execution_count": 95,
   "id": "national-vaccine",
   "metadata": {},
   "outputs": [
    {
     "name": "stdout",
     "output_type": "stream",
     "text": [
      "NAN values: Type            0\n",
      "Age             0\n",
      "Breed1          0\n",
      "Breed2          0\n",
      "Gender          0\n",
      "Color1          0\n",
      "Color2          0\n",
      "Color3          0\n",
      "MaturitySize    0\n",
      "FurLength       0\n",
      "Vaccinated      0\n",
      "Dewormed        0\n",
      "Sterilized      0\n",
      "Health          0\n",
      "Quantity        0\n",
      "Fee             0\n",
      "State           0\n",
      "VideoAmt        0\n",
      "PhotoAmt        0\n",
      "dtype: int64\n",
      "Type              2\n",
      "Age             106\n",
      "Breed1          176\n",
      "Breed2          135\n",
      "Gender            3\n",
      "Color1            7\n",
      "Color2            7\n",
      "Color3            6\n",
      "MaturitySize      4\n",
      "FurLength         3\n",
      "Vaccinated        3\n",
      "Dewormed          3\n",
      "Sterilized        3\n",
      "Health            3\n",
      "Quantity         19\n",
      "Fee              74\n",
      "State            14\n",
      "VideoAmt          9\n",
      "PhotoAmt         31\n",
      "dtype: int64\n"
     ]
    }
   ],
   "source": [
    "# counting the no of unique values in each column after dropping a few columns \n",
    "\n",
    "# nan values\n",
    "print(\"NAN values:\",X_train.isna().sum())\n",
    "\n",
    "# unique values \n",
    "print(X_train.nunique())"
   ]
  },
  {
   "cell_type": "code",
   "execution_count": 96,
   "id": "capable-crazy",
   "metadata": {},
   "outputs": [],
   "source": [
    "## filtering out columns that have less than 15 values\n",
    "\n",
    "discrete_columns = [columns for columns in X_train.columns if X_train[columns].nunique() < 15]\n",
    "cont_columns = [columns for columns in X_train.columns if X_train[columns].nunique() > 15]"
   ]
  },
  {
   "cell_type": "code",
   "execution_count": 97,
   "id": "forced-cigarette",
   "metadata": {},
   "outputs": [
    {
     "data": {
      "text/plain": [
       "(['Type',\n",
       "  'Gender',\n",
       "  'Color1',\n",
       "  'Color2',\n",
       "  'Color3',\n",
       "  'MaturitySize',\n",
       "  'FurLength',\n",
       "  'Vaccinated',\n",
       "  'Dewormed',\n",
       "  'Sterilized',\n",
       "  'Health',\n",
       "  'State',\n",
       "  'VideoAmt'],\n",
       " ['Age', 'Breed1', 'Breed2', 'Quantity', 'Fee', 'PhotoAmt'])"
      ]
     },
     "execution_count": 97,
     "metadata": {},
     "output_type": "execute_result"
    }
   ],
   "source": [
    "discrete_columns, cont_columns"
   ]
  },
  {
   "cell_type": "code",
   "execution_count": 98,
   "id": "intelligent-ozone",
   "metadata": {},
   "outputs": [
    {
     "name": "stdout",
     "output_type": "stream",
     "text": [
      "(13493, 19) (13493,) (1500, 19) (1500,)\n"
     ]
    }
   ],
   "source": [
    "#  Splitting the dataset into train and valid set\n",
    "from sklearn.model_selection import train_test_split\n",
    "\n",
    "X_train, X_valid, y_train, y_valid = train_test_split(X_train, y_train, test_size=.1, stratify=y_train)\n",
    "\n",
    "print(X_train.shape, y_train.shape, X_valid.shape, y_valid.shape)"
   ]
  },
  {
   "cell_type": "code",
   "execution_count": 99,
   "id": "recovered-nevada",
   "metadata": {},
   "outputs": [],
   "source": [
    "# # Using column transform to onehot encode multiple columns \n",
    "\n",
    "from sklearn.compose import ColumnTransformer\n",
    "from sklearn.preprocessing import OneHotEncoder\n",
    "from sklearn.preprocessing import StandardScaler"
   ]
  },
  {
   "cell_type": "code",
   "execution_count": 100,
   "id": "powerful-emerald",
   "metadata": {},
   "outputs": [],
   "source": [
    "# initializing the column transform object\n",
    "\n",
    "# ct = ColumnTransformer(\n",
    "#      [(\"cat\", OneHotEncoder(), discrete_columns)], remainder='passthrough')\n",
    "\n",
    "ct = ColumnTransformer(\n",
    "        [('cat', OneHotEncoder(), discrete_columns),\n",
    "         ('cont', StandardScaler(), cont_columns)])"
   ]
  },
  {
   "cell_type": "code",
   "execution_count": 101,
   "id": "subtle-pregnancy",
   "metadata": {},
   "outputs": [],
   "source": [
    "# calling the transform \n",
    "\n",
    "X_train = ct.fit_transform(X_train)\n",
    "X_valid = ct.transform(X_valid)"
   ]
  },
  {
   "cell_type": "code",
   "execution_count": 102,
   "id": "vertical-modeling",
   "metadata": {},
   "outputs": [
    {
     "data": {
      "text/plain": [
       "(<13493x73 sparse matrix of type '<class 'numpy.float64'>'\n",
       " \twith 256367 stored elements in Compressed Sparse Row format>,\n",
       " <1500x73 sparse matrix of type '<class 'numpy.float64'>'\n",
       " \twith 28500 stored elements in Compressed Sparse Row format>)"
      ]
     },
     "execution_count": 102,
     "metadata": {},
     "output_type": "execute_result"
    }
   ],
   "source": [
    "X_train, X_valid"
   ]
  },
  {
   "cell_type": "code",
   "execution_count": 103,
   "id": "athletic-assault",
   "metadata": {},
   "outputs": [],
   "source": [
    "X_train = X_train.todense()\n",
    "X_valid = X_valid.todense()"
   ]
  },
  {
   "cell_type": "code",
   "execution_count": 104,
   "id": "documented-update",
   "metadata": {},
   "outputs": [],
   "source": [
    "X_train = pd.DataFrame(X_train)\n",
    "X_valid = pd.DataFrame(X_valid)"
   ]
  },
  {
   "cell_type": "code",
   "execution_count": 105,
   "id": "dominant-medicine",
   "metadata": {},
   "outputs": [
    {
     "data": {
      "text/plain": [
       "((13493, 73), (1500, 73))"
      ]
     },
     "execution_count": 105,
     "metadata": {},
     "output_type": "execute_result"
    }
   ],
   "source": [
    "X_train.shape, X_valid.shape"
   ]
  },
  {
   "cell_type": "markdown",
   "id": "automatic-mayor",
   "metadata": {},
   "source": [
    "Let's try a Bayesian Model"
   ]
  },
  {
   "cell_type": "code",
   "execution_count": 106,
   "id": "clean-mobility",
   "metadata": {},
   "outputs": [],
   "source": [
    "from sklearn.naive_bayes import GaussianNB\n",
    "from sklearn.model_selection import cross_val_score"
   ]
  },
  {
   "cell_type": "code",
   "execution_count": 107,
   "id": "lonely-military",
   "metadata": {},
   "outputs": [
    {
     "data": {
      "text/plain": [
       "GaussianNB()"
      ]
     },
     "execution_count": 107,
     "metadata": {},
     "output_type": "execute_result"
    }
   ],
   "source": [
    "gaussian_model = GaussianNB()\n",
    "\n",
    "gaussian_model.fit(X_train, y_train)"
   ]
  },
  {
   "cell_type": "code",
   "execution_count": 108,
   "id": "smoking-geometry",
   "metadata": {},
   "outputs": [],
   "source": [
    "# Using gaussian model to predict the validation set\n",
    "\n",
    "gaussian_predictions_valid = gaussian_model.predict(X_valid)\n",
    "gaussian_predictions_train = gaussian_model.predict(X_train)"
   ]
  },
  {
   "cell_type": "code",
   "execution_count": 116,
   "id": "accompanied-rider",
   "metadata": {},
   "outputs": [
    {
     "name": "stdout",
     "output_type": "stream",
     "text": [
      "For gaussian model cohen kappa: \n",
      "Train: 0.015189153968617974 Valid: 0.013920235083839438\n"
     ]
    }
   ],
   "source": [
    "## evaluating the model with weighted kappa \n",
    "from sklearn.metrics import cohen_kappa_score\n",
    "\n",
    "gaussian_kappa_valid = cohen_kappa_score(y_valid, gaussian_predictions_valid, weights='quadratic')\n",
    "gaussian_kappa_train = cohen_kappa_score(y_train, gaussian_predictions_train, weights='quadratic')\n",
    "\n",
    "print(f\"For gaussian model cohen kappa: \\nTrain: {gaussian_kappa_train} Valid: {gaussian_kappa_valid}\")"
   ]
  },
  {
   "cell_type": "code",
   "execution_count": 110,
   "id": "regular-experience",
   "metadata": {},
   "outputs": [],
   "source": [
    "from sklearn.ensemble import RandomForestClassifier"
   ]
  },
  {
   "cell_type": "code",
   "execution_count": 111,
   "id": "limited-hardware",
   "metadata": {},
   "outputs": [
    {
     "data": {
      "text/plain": [
       "RandomForestClassifier()"
      ]
     },
     "execution_count": 111,
     "metadata": {},
     "output_type": "execute_result"
    }
   ],
   "source": [
    "rf = RandomForestClassifier()\n",
    "rf.fit(X_train, y_train)"
   ]
  },
  {
   "cell_type": "code",
   "execution_count": 112,
   "id": "together-member",
   "metadata": {},
   "outputs": [],
   "source": [
    "# predictions from the randomforest model\n",
    "\n",
    "rf_predictions_valid = rf.predict(X_valid)\n",
    "rf_predictions_train = rf.predict(X_train)"
   ]
  },
  {
   "cell_type": "code",
   "execution_count": 117,
   "id": "meaningful-field",
   "metadata": {},
   "outputs": [
    {
     "name": "stdout",
     "output_type": "stream",
     "text": [
      "For Random Forest model cohen kappa: \n",
      "Train: 0.9852835572552524 Valid: 0.2667279217452819\n"
     ]
    }
   ],
   "source": [
    "## Cohen Kappa score from rf. We can see that we have quite a high level of over fitting\n",
    "## We know that the model is training\n",
    "\n",
    "rf_kappa_valid = cohen_kappa_score(y_valid, rf_predictions_valid, weights='quadratic')\n",
    "rf_kappa_train = cohen_kappa_score(y_train, rf_predictions_train, weights='quadratic')\n",
    "\n",
    "print(f\"For Random Forest model cohen kappa: \\nTrain: {rf_kappa_train} Valid: {rf_kappa_valid}\")"
   ]
  },
  {
   "cell_type": "code",
   "execution_count": 114,
   "id": "computational-airline",
   "metadata": {},
   "outputs": [
    {
     "data": {
      "text/plain": [
       "GradientBoostingClassifier()"
      ]
     },
     "execution_count": 114,
     "metadata": {},
     "output_type": "execute_result"
    }
   ],
   "source": [
    "## Let's try Gradient boosting classifier from sklearn learn\n",
    "from sklearn.ensemble import GradientBoostingClassifier\n",
    "\n",
    "gb_model = GradientBoostingClassifier()\n",
    "gb_model.fit(X_train, y_train)"
   ]
  },
  {
   "cell_type": "code",
   "execution_count": 115,
   "id": "manual-johnson",
   "metadata": {},
   "outputs": [
    {
     "name": "stdout",
     "output_type": "stream",
     "text": [
      "For Random Forest model cohen kappa: 0.3031254065305061\n"
     ]
    }
   ],
   "source": [
    "# evaluating gradient boosting model\n",
    "\n",
    "gb_predictions_valid = gb_model.predict(X_valid)\n",
    "cohen_kappa_gb = cohen_kappa_score(gb_predictions_valid, y_valid, weights='quadratic')\n",
    "\n",
    "print(f\"For Random Forest model cohen kappa: {cohen_kappa_gb}\")"
   ]
  },
  {
   "cell_type": "code",
   "execution_count": 124,
   "id": "meaning-constitutional",
   "metadata": {},
   "outputs": [
    {
     "name": "stdout",
     "output_type": "stream",
     "text": [
      "True values:\n",
      "\t[4 2 2 4 4 3 1 4 2 4]\n",
      "Predicted values:\n",
      "\t[4 3 3 4 4 4 2 3 2 4]\n"
     ]
    }
   ],
   "source": [
    "## Let's look at some predictions\n",
    "print(f\"True values:\\n\\t{y_valid[100:110].values}\")\n",
    "print(f\"Predicted values:\\n\\t{gb_model.predict(X_valid[100:110])}\")"
   ]
  },
  {
   "cell_type": "code",
   "execution_count": null,
   "id": "meaningful-weapon",
   "metadata": {},
   "outputs": [],
   "source": []
  }
 ],
 "metadata": {
  "kernelspec": {
   "display_name": "Python 3",
   "language": "python",
   "name": "python3"
  },
  "language_info": {
   "codemirror_mode": {
    "name": "ipython",
    "version": 3
   },
   "file_extension": ".py",
   "mimetype": "text/x-python",
   "name": "python",
   "nbconvert_exporter": "python",
   "pygments_lexer": "ipython3",
   "version": "3.8.5"
  }
 },
 "nbformat": 4,
 "nbformat_minor": 5
}
